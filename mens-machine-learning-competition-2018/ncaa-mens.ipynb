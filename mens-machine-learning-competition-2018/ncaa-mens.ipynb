{
 "cells": [
  {
   "cell_type": "markdown",
   "metadata": {},
   "source": [
    "## パッケージ"
   ]
  },
  {
   "cell_type": "code",
   "execution_count": 1,
   "metadata": {},
   "outputs": [],
   "source": [
    "# 余分なワーニングを非表示にする\n",
    "import warnings\n",
    "warnings.filterwarnings('ignore')\n",
    "\n",
    "# 必要なライブラリのimport\n",
    "import pandas as pd\n",
    "import numpy as np\n",
    "import matplotlib.pyplot as plt\n",
    "import seaborn as sns\n",
    "import os\n",
    "from glob import glob\n",
    "\n",
    "# matplotlibの日本語化対応\n",
    "import japanize_matplotlib\n",
    "\n",
    "# データフレーム表示用関数\n",
    "from IPython.display import display\n",
    "\n",
    "# 表示オプション調整\n",
    "# numpyの浮動小数点の表示精度\n",
    "np.set_printoptions(suppress=True, precision=4)\n",
    "\n",
    "# pandasでの浮動小数点の表示精度\n",
    "pd.options.display.float_format = '{:.4f}'.format\n",
    "\n",
    "# データフレームですべての項目を表示\n",
    "pd.set_option(\"display.max_columns\",None)\n",
    "\n",
    "# グラフのデフォルトフォント指定\n",
    "plt.rcParams[\"font.size\"] = 14\n",
    "\n",
    "# 乱数の種\n",
    "random_seed = 123"
   ]
  },
  {
   "cell_type": "code",
   "execution_count": null,
   "metadata": {},
   "outputs": [],
   "source": [
    "# データフレームの特徴を自動的に作ってくれる pandas-profiling を利用する\n",
    "from pandas_profiling import ProfileReport\n",
    "\n",
    "# report = ProfileReport(session_df)\n",
    "# report.to_file(os.path.join(OUTPUT_DIR, \"session_report.html\"))"
   ]
  },
  {
   "cell_type": "markdown",
   "metadata": {},
   "source": [
    "機械学習とは\n",
    "機械学習とは、ざっと行ってしまうとあるデータ X を入力として対応する予測値 y を取り出すような対応関係を作成すること\n",
    "\n",
    "例：タイタニック号で、乗客が生きるか死ぬかを予測する問題だと X は乗客の年齢, 性別, 船室のグレード… など乗客に紐づく情報のことを指す。通常、この情報のことを特徴量とよぶ。\n",
    "\n",
    "特徴量 X と 予測値 y が用意できれば学習用データ (X - y の関係がわかっているデータ) を元にして X をいれて y になるようにモデルを調整する。この調整の段階を学習とよびます。学習には様々なアルゴリズムがあるが、X, y を用意しなくてはならない部分は基本的に変わらない。\n",
    "\n",
    "話を今回の問題設定に戻すと、今回のタスクは"
   ]
  },
  {
   "cell_type": "code",
   "execution_count": null,
   "metadata": {},
   "outputs": [],
   "source": []
  },
  {
   "cell_type": "code",
   "execution_count": null,
   "metadata": {},
   "outputs": [],
   "source": []
  },
  {
   "cell_type": "code",
   "execution_count": null,
   "metadata": {},
   "outputs": [],
   "source": []
  },
  {
   "cell_type": "markdown",
   "metadata": {},
   "source": [
    "目的変数 `y` が作成できたので次は入力する特徴量 `X` を作っていく。\n",
    "\n",
    "特徴量は予測対象に対して紐づくような値 (属性) のこと。機械学習モデルは基本的に数値しか扱えないため、何らかの方法で表現したい情報を数値化する必要がある。先のタイタニックの例で言うと、性別は文字列なため、何らかの方法で性別を表すような数字の表現に直す工程が必要である。また、機械学習ではテキストや画像などを取り扱う場合もあるが、画像であればピクセルの RGB (W x H x 3 の matrix 化) を NLP であれば分かち書き等の手法によって、最終的に数値化されて機械学習へとインプットされている。数値への変換は人間の仕事であり、この表現を作っていく工程のことを特徴量エンジニアリング (feature engineering) とよび、機械学習モデルを作成する上で大変大事な工程である。\n",
    "\n",
    "今回の問題設定では、、、\n"
   ]
  },
  {
   "cell_type": "markdown",
   "metadata": {},
   "source": []
  }
 ],
 "metadata": {
  "interpreter": {
   "hash": "c919f66377084bbe5264acaad3227a0b6e2b7b31c717b6c23ee3b90ae87f6f0d"
  },
  "kernelspec": {
   "display_name": "Python 3.8.12 ('python38')",
   "language": "python",
   "name": "python3"
  },
  "language_info": {
   "codemirror_mode": {
    "name": "ipython",
    "version": 3
   },
   "file_extension": ".py",
   "mimetype": "text/x-python",
   "name": "python",
   "nbconvert_exporter": "python",
   "pygments_lexer": "ipython3",
   "version": "3.8.12"
  },
  "orig_nbformat": 4
 },
 "nbformat": 4,
 "nbformat_minor": 2
}
