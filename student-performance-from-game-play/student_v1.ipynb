{
 "cells": [
  {
   "cell_type": "code",
   "execution_count": 1,
   "metadata": {},
   "outputs": [
    {
     "data": {
      "text/plain": [
       "<Figure size 1200x500 with 0 Axes>"
      ]
     },
     "metadata": {},
     "output_type": "display_data"
    }
   ],
   "source": [
    "# library import\n",
    "import pandas as pd\n",
    "import polars as pl\n",
    "import numpy as np\n",
    "import matplotlib.pyplot as plt\n",
    "import torch\n",
    "%matplotlib inline\n",
    "import seaborn as sns\n",
    "from sklearn.preprocessing import OneHotEncoder\n",
    "from sklearn.model_selection import KFold\n",
    "from sklearn.utils import shuffle\n",
    "import os\n",
    "import re\n",
    "import glob\n",
    "import shutil\n",
    "import gc\n",
    "from pathlib import Path\n",
    "\n",
    "# showing module\n",
    "from IPython.display import display\n",
    "\n",
    "# output display option adjustment\n",
    "# precision of floating point in numpy\n",
    "np.set_printoptions(suppress=True, precision=4)\n",
    "\n",
    "# precision of floating point in pandas\n",
    "pd.options.display.float_format = '{:.4f}'.format\n",
    "\n",
    "# display all columns in dataframe\n",
    "pd.set_option(\"display.max_columns\",None)\n",
    "\n",
    "# default font size in graph\n",
    "plt.rcParams[\"font.size\"] = 14\n",
    "\n",
    "# graph display\n",
    "sns.set(rc={'figure.figsize':(12,5)});\n",
    "plt.figure(figsize=(12,5));\n",
    "\n",
    "# random seed\n",
    "random_seed = 45"
   ]
  },
  {
   "cell_type": "code",
   "execution_count": 4,
   "metadata": {},
   "outputs": [],
   "source": [
    "# create the input_dir（input directory）\n",
    "current_note_path = os.path.dirname(os.path.abspath('__file__'))\n",
    "INPUT_DIR = os.path.join(current_note_path, \"data\")\n",
    "\n",
    "# if INPUT_DIR has not been created yet, create it\n",
    "if not os.path.isdir(INPUT_DIR):\n",
    "    os.mkdir(INPUT_DIR)\n",
    "\n",
    "# output_dir(output directory) creation\n",
    "OUTPUT_DIR = os.path.join(current_note_path, 'outputs')\n",
    "\n",
    "# if OUTPUT_DIR has not been created yet, create it\n",
    "if not os.path.isdir(OUTPUT_DIR):\n",
    "    os.mkdir(OUTPUT_DIR)"
   ]
  },
  {
   "cell_type": "code",
   "execution_count": 5,
   "metadata": {},
   "outputs": [
    {
     "name": "stdout",
     "output_type": "stream",
     "text": [
      "moved file: /Users/satoshiido/Documents/programming/kaggle/student_performance_from_game_play/predict-student-performance-from-game-play/train_labels.csv\n",
      "moved file: /Users/satoshiido/Documents/programming/kaggle/student_performance_from_game_play/predict-student-performance-from-game-play/train.csv\n",
      "moved file: /Users/satoshiido/Documents/programming/kaggle/student_performance_from_game_play/predict-student-performance-from-game-play/sample_submission.csv\n",
      "moved file: /Users/satoshiido/Documents/programming/kaggle/student_performance_from_game_play/predict-student-performance-from-game-play/test.csv\n"
     ]
    }
   ],
   "source": [
    "# Once you run this code, comment it out\n",
    "# move csv files to `data` directory(=folder)\n",
    "unique_dir_names = []\n",
    "for f in Path(f'{current_note_path}').rglob('*.csv'):\n",
    "    unique_dir_names.append(f)\n",
    "\n",
    "for file in list(set(unique_dir_names)):\n",
    "    print(f'moved file: {file}')\n",
    "    shutil.move(f'{file}', f'{INPUT_DIR}')"
   ]
  },
  {
   "cell_type": "code",
   "execution_count": 2,
   "metadata": {},
   "outputs": [],
   "source": [
    "# Polars function to let us read csv files without having to specify the directory\n",
    "def read_csv(name, **kwrgs):\n",
    "    path = os.path.join(INPUT_DIR, name + '.csv')\n",
    "    print(f'Load: {path}')\n",
    "    return pl.read_csv(path, **kwrgs)"
   ]
  },
  {
   "cell_type": "code",
   "execution_count": 5,
   "metadata": {},
   "outputs": [
    {
     "name": "stdout",
     "output_type": "stream",
     "text": [
      "Load: /Users/satoshiido/Documents/programming/kaggle/student-performance-from-game-play/predict-student-performance-from-game-play/data/train.csv\n",
      "Load: /Users/satoshiido/Documents/programming/kaggle/student-performance-from-game-play/predict-student-performance-from-game-play/data/test.csv\n",
      "Load: /Users/satoshiido/Documents/programming/kaggle/student-performance-from-game-play/predict-student-performance-from-game-play/data/sample_submission.csv\n"
     ]
    }
   ],
   "source": [
    "train = read_csv('train')\n",
    "test = read_csv('test')\n",
    "sample = read_csv('sample_submission')"
   ]
  },
  {
   "cell_type": "code",
   "execution_count": 15,
   "metadata": {},
   "outputs": [
    {
     "data": {
      "text/html": [
       "<div><style>\n",
       ".dataframe > thead > tr > th,\n",
       ".dataframe > tbody > tr > td {\n",
       "  text-align: right;\n",
       "}\n",
       "</style>\n",
       "<small>shape: (3, 20)</small><table border=\"1\" class=\"dataframe\"><thead><tr><th>session_id</th><th>index</th><th>elapsed_time</th><th>event_name</th><th>name</th><th>level</th><th>page</th><th>room_coor_x</th><th>room_coor_y</th><th>screen_coor_x</th><th>screen_coor_y</th><th>hover_duration</th><th>text</th><th>fqid</th><th>room_fqid</th><th>text_fqid</th><th>fullscreen</th><th>hq</th><th>music</th><th>level_group</th></tr><tr><td>i64</td><td>i64</td><td>i64</td><td>str</td><td>str</td><td>i64</td><td>str</td><td>f64</td><td>f64</td><td>f64</td><td>f64</td><td>f64</td><td>str</td><td>str</td><td>str</td><td>str</td><td>i64</td><td>i64</td><td>i64</td><td>str</td></tr></thead><tbody><tr><td>20090312431273200</td><td>0</td><td>0</td><td>&quot;cutscene_click…</td><td>&quot;basic&quot;</td><td>0</td><td>null</td><td>-413.991405</td><td>-159.314686</td><td>380.0</td><td>494.0</td><td>null</td><td>&quot;undefined&quot;</td><td>&quot;intro&quot;</td><td>&quot;tunic.historic…</td><td>&quot;tunic.historic…</td><td>0</td><td>0</td><td>1</td><td>&quot;0-4&quot;</td></tr><tr><td>20090312431273200</td><td>1</td><td>1323</td><td>&quot;person_click&quot;</td><td>&quot;basic&quot;</td><td>0</td><td>null</td><td>-413.991405</td><td>-159.314686</td><td>380.0</td><td>494.0</td><td>null</td><td>&quot;Whatcha doing …</td><td>&quot;gramps&quot;</td><td>&quot;tunic.historic…</td><td>&quot;tunic.historic…</td><td>0</td><td>0</td><td>1</td><td>&quot;0-4&quot;</td></tr><tr><td>20090312431273200</td><td>2</td><td>831</td><td>&quot;person_click&quot;</td><td>&quot;basic&quot;</td><td>0</td><td>null</td><td>-413.991405</td><td>-159.314686</td><td>380.0</td><td>494.0</td><td>null</td><td>&quot;Just talking t…</td><td>&quot;gramps&quot;</td><td>&quot;tunic.historic…</td><td>&quot;tunic.historic…</td><td>0</td><td>0</td><td>1</td><td>&quot;0-4&quot;</td></tr></tbody></table></div>"
      ],
      "text/plain": [
       "shape: (3, 20)\n",
       "┌───────────────┬───────┬──────────────┬──────────────┬───┬────────────┬─────┬───────┬─────────────┐\n",
       "│ session_id    ┆ index ┆ elapsed_time ┆ event_name   ┆ … ┆ fullscreen ┆ hq  ┆ music ┆ level_group │\n",
       "│ ---           ┆ ---   ┆ ---          ┆ ---          ┆   ┆ ---        ┆ --- ┆ ---   ┆ ---         │\n",
       "│ i64           ┆ i64   ┆ i64          ┆ str          ┆   ┆ i64        ┆ i64 ┆ i64   ┆ str         │\n",
       "╞═══════════════╪═══════╪══════════════╪══════════════╪═══╪════════════╪═════╪═══════╪═════════════╡\n",
       "│ 2009031243127 ┆ 0     ┆ 0            ┆ cutscene_cli ┆ … ┆ 0          ┆ 0   ┆ 1     ┆ 0-4         │\n",
       "│ 3200          ┆       ┆              ┆ ck           ┆   ┆            ┆     ┆       ┆             │\n",
       "│ 2009031243127 ┆ 1     ┆ 1323         ┆ person_click ┆ … ┆ 0          ┆ 0   ┆ 1     ┆ 0-4         │\n",
       "│ 3200          ┆       ┆              ┆              ┆   ┆            ┆     ┆       ┆             │\n",
       "│ 2009031243127 ┆ 2     ┆ 831          ┆ person_click ┆ … ┆ 0          ┆ 0   ┆ 1     ┆ 0-4         │\n",
       "│ 3200          ┆       ┆              ┆              ┆   ┆            ┆     ┆       ┆             │\n",
       "└───────────────┴───────┴──────────────┴──────────────┴───┴────────────┴─────┴───────┴─────────────┘"
      ]
     },
     "execution_count": 15,
     "metadata": {},
     "output_type": "execute_result"
    }
   ],
   "source": [
    "train.head(3)"
   ]
  },
  {
   "cell_type": "code",
   "execution_count": null,
   "metadata": {},
   "outputs": [],
   "source": [
    "# pop-up setting for frequent terms\n",
    "customer_ID = 'customer_ID'\n",
    "TARGET = 'target'"
   ]
  }
 ],
 "metadata": {
  "kernelspec": {
   "display_name": "python38",
   "language": "python",
   "name": "python3"
  },
  "language_info": {
   "codemirror_mode": {
    "name": "ipython",
    "version": 3
   },
   "file_extension": ".py",
   "mimetype": "text/x-python",
   "name": "python",
   "nbconvert_exporter": "python",
   "pygments_lexer": "ipython3",
   "version": "3.8.16"
  },
  "orig_nbformat": 4
 },
 "nbformat": 4,
 "nbformat_minor": 2
}
