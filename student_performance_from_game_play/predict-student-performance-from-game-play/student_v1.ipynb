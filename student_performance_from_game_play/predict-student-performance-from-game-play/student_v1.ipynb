{
 "cells": [
  {
   "cell_type": "code",
   "execution_count": 1,
   "metadata": {},
   "outputs": [
    {
     "data": {
      "text/plain": [
       "<Figure size 1200x500 with 0 Axes>"
      ]
     },
     "metadata": {},
     "output_type": "display_data"
    }
   ],
   "source": [
    "# library import\n",
    "import pandas as pd\n",
    "import numpy as np\n",
    "import matplotlib.pyplot as plt\n",
    "%matplotlib inline\n",
    "import seaborn as sns\n",
    "from sklearn.preprocessing import OneHotEncoder\n",
    "from sklearn.model_selection import KFold\n",
    "from sklearn.utils import shuffle\n",
    "import os\n",
    "import re\n",
    "import glob\n",
    "import shutil\n",
    "import gc\n",
    "from pathlib import Path\n",
    "\n",
    "# showing module\n",
    "from IPython.display import display\n",
    "\n",
    "# output display option adjustment\n",
    "# precision of floating point in numpy\n",
    "np.set_printoptions(suppress=True, precision=4)\n",
    "\n",
    "# precision of floating point in pandas\n",
    "pd.options.display.float_format = '{:.4f}'.format\n",
    "\n",
    "# display all columns in dataframe\n",
    "pd.set_option(\"display.max_columns\",None)\n",
    "\n",
    "# default font size in graph\n",
    "plt.rcParams[\"font.size\"] = 14\n",
    "\n",
    "# graph display\n",
    "sns.set(rc={'figure.figsize':(12,5)});\n",
    "plt.figure(figsize=(12,5));\n",
    "\n",
    "# random seed\n",
    "random_seed = 45"
   ]
  },
  {
   "cell_type": "code",
   "execution_count": null,
   "metadata": {},
   "outputs": [],
   "source": [
    "import dask\n",
    "import dask.array as da\n",
    "import dask.dataframe as dd\n",
    "import pyarrow\n",
    "from tqdm import tqdm"
   ]
  },
  {
   "cell_type": "code",
   "execution_count": 8,
   "metadata": {},
   "outputs": [
    {
     "ename": "ModuleNotFoundError",
     "evalue": "No module named 'polar'",
     "output_type": "error",
     "traceback": [
      "\u001b[0;31m---------------------------------------------------------------------------\u001b[0m",
      "\u001b[0;31mModuleNotFoundError\u001b[0m                       Traceback (most recent call last)",
      "Cell \u001b[0;32mIn[8], line 1\u001b[0m\n\u001b[0;32m----> 1\u001b[0m \u001b[39mimport\u001b[39;00m \u001b[39mpolar\u001b[39;00m \u001b[39mas\u001b[39;00m \u001b[39mpl\u001b[39;00m\n",
      "\u001b[0;31mModuleNotFoundError\u001b[0m: No module named 'polar'"
     ]
    }
   ],
   "source": [
    "import polar as pl"
   ]
  },
  {
   "cell_type": "code",
   "execution_count": 4,
   "metadata": {},
   "outputs": [],
   "source": [
    "# create the input_dir（input directory）\n",
    "current_note_path = os.path.dirname(os.path.abspath('__file__'))\n",
    "INPUT_DIR = os.path.join(current_note_path, \"data\")\n",
    "\n",
    "# if INPUT_DIR has not been created yet, create it\n",
    "if not os.path.isdir(INPUT_DIR):\n",
    "    os.mkdir(INPUT_DIR)\n",
    "\n",
    "# output_dir(output directory) creation\n",
    "OUTPUT_DIR = os.path.join(current_note_path, 'outputs')\n",
    "\n",
    "# if OUTPUT_DIR has not been created yet, create it\n",
    "if not os.path.isdir(OUTPUT_DIR):\n",
    "    os.mkdir(OUTPUT_DIR)"
   ]
  },
  {
   "cell_type": "code",
   "execution_count": 5,
   "metadata": {},
   "outputs": [
    {
     "name": "stdout",
     "output_type": "stream",
     "text": [
      "moved file: /Users/satoshiido/Documents/programming/kaggle/student_performance_from_game_play/predict-student-performance-from-game-play/train_labels.csv\n",
      "moved file: /Users/satoshiido/Documents/programming/kaggle/student_performance_from_game_play/predict-student-performance-from-game-play/train.csv\n",
      "moved file: /Users/satoshiido/Documents/programming/kaggle/student_performance_from_game_play/predict-student-performance-from-game-play/sample_submission.csv\n",
      "moved file: /Users/satoshiido/Documents/programming/kaggle/student_performance_from_game_play/predict-student-performance-from-game-play/test.csv\n"
     ]
    }
   ],
   "source": [
    "# # Once you run this code, comment it out\n",
    "# # move csv files to `data` directory(=folder)\n",
    "# unique_dir_names = []\n",
    "# for f in Path(f'{current_note_path}').rglob('*.csv'):\n",
    "#     unique_dir_names.append(f)\n",
    "\n",
    "# for file in list(set(unique_dir_names)):\n",
    "#     print(f'moved file: {file}')\n",
    "#     shutil.move(f'{file}', f'{INPUT_DIR}')"
   ]
  },
  {
   "cell_type": "code",
   "execution_count": 7,
   "metadata": {},
   "outputs": [],
   "source": [
    "# function to let us read csv files without having to specify the directory\n",
    "def read_csv(name, **kwrgs):\n",
    "    path = os.path.join(INPUT_DIR, name + '.csv')\n",
    "    print(f'Load: {path}')\n",
    "    return pd.read_csv(path, **kwrgs)"
   ]
  },
  {
   "cell_type": "code",
   "execution_count": null,
   "metadata": {},
   "outputs": [],
   "source": [
    "train = read_csv('train')\n",
    "test = read_csv('test')\n",
    "# sample fileはヘッダーがなく、サブミットファイルもヘッダーなしで提出することに注意する\n",
    "sample = read_csv('submit_sample', header=None)"
   ]
  },
  {
   "cell_type": "code",
   "execution_count": null,
   "metadata": {},
   "outputs": [],
   "source": [
    "# pop-up setting for frequent terms\n",
    "customer_ID = 'customer_ID'\n",
    "TARGET = 'target'"
   ]
  }
 ],
 "metadata": {
  "kernelspec": {
   "display_name": "python38",
   "language": "python",
   "name": "python3"
  },
  "language_info": {
   "codemirror_mode": {
    "name": "ipython",
    "version": 3
   },
   "file_extension": ".py",
   "mimetype": "text/x-python",
   "name": "python",
   "nbconvert_exporter": "python",
   "pygments_lexer": "ipython3",
   "version": "3.8.16"
  },
  "orig_nbformat": 4
 },
 "nbformat": 4,
 "nbformat_minor": 2
}
